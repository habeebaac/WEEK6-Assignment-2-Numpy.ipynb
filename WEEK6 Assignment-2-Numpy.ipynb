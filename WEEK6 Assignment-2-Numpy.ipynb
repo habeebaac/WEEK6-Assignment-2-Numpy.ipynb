{
 "cells": [
  {
   "cell_type": "markdown",
   "id": "2cf6a0fd-9eb6-4552-9f40-6b341108c2a8",
   "metadata": {},
   "source": [
    "# WEEK6: Assignment-2-Numpy"
   ]
  },
  {
   "cell_type": "markdown",
   "id": "b406f380-f7cc-453e-903c-110ff99b1f42",
   "metadata": {},
   "source": [
    "Q1.Data science problem on Read,split and save Data process\n",
    "\n",
    "In the Data Science project, the one Big \"climate.txt\" Data file wants to be split into ten different commas separated\n",
    "value files (.csv) and then assign this file to ten Data analytics Team members for further analysis.\n",
    "you try to help them to write the Python code using the NumPy package and produce successful output.\n",
    "\n",
    "Note:\n",
    "file_url='https://raw.githubusercontent.com/svkarthik86/Advanced-python/main/climate.txt'\n",
    "step1: Read the txt file climate.txt\n",
    "step2:split the climate.txt into ten array \n",
    "step3:create new directory as climate_project\n",
    "step4:store the all ten file like climate_data_team1.csv to climate_data_team10.csv , into climate_project directory"
   ]
  },
  {
   "cell_type": "code",
   "execution_count": null,
   "id": "ece4b756-a774-4057-a7bb-7e139d599674",
   "metadata": {},
   "outputs": [],
   "source": [
    "import urllib.request\n",
    "import numpy as np"
   ]
  },
  {
   "cell_type": "code",
   "execution_count": 2,
   "id": "6058c415-7d3f-4f62-9969-c504f8779b1b",
   "metadata": {},
   "outputs": [
    {
     "data": {
      "text/plain": [
       "('climate.txt', <http.client.HTTPMessage at 0x2765a98b730>)"
      ]
     },
     "execution_count": 2,
     "metadata": {},
     "output_type": "execute_result"
    }
   ],
   "source": [
    "#download climate.txt file\n",
    "url_climate=\"https://raw.githubusercontent.com/svkarthik86/Advanced-python/main/climate.txt\"\n",
    "urllib.request.urlretrieve(url_climate,\"climate.txt\")"
   ]
  },
  {
   "cell_type": "code",
   "execution_count": 15,
   "id": "7b639cef-423e-455c-8300-d8f0e60894ad",
   "metadata": {},
   "outputs": [
    {
     "data": {
      "text/plain": [
       "array([[25., 76., 99.],\n",
       "       [39., 65., 70.],\n",
       "       [59., 45., 77.],\n",
       "       ...,\n",
       "       [99., 62., 58.],\n",
       "       [70., 71., 91.],\n",
       "       [92., 39., 76.]])"
      ]
     },
     "execution_count": 15,
     "metadata": {},
     "output_type": "execute_result"
    }
   ],
   "source": [
    "climate_data"
   ]
  },
  {
   "cell_type": "code",
   "execution_count": 13,
   "id": "12e02520-422b-477d-ac0d-6cdfd601cd25",
   "metadata": {},
   "outputs": [],
   "source": [
    "def split_arr(arr,n):\n",
    "    split_arr_data=np.array_split(arr,n)\n",
    "    for i in range(n):\n",
    "        np.savetxt(f\"climate_project/climate_data_team{i+1}.csv\",arr[i],delimiter=',',fmt='%i',header='temperature,rainfall,humidity')"
   ]
  },
  {
   "cell_type": "code",
   "execution_count": 14,
   "id": "9b1eaa10-8f45-4987-96ff-5bfefaa92542",
   "metadata": {},
   "outputs": [],
   "source": [
    "split_arr(climate_data,10)"
   ]
  },
  {
   "cell_type": "code",
   "execution_count": 4,
   "id": "6067e3d5-0490-4d94-9520-f35e74a33f2d",
   "metadata": {},
   "outputs": [
    {
     "data": {
      "text/plain": [
       "('test1.ipynb', <http.client.HTTPMessage at 0x1ae06e935e0>)"
      ]
     },
     "execution_count": 4,
     "metadata": {},
     "output_type": "execute_result"
    }
   ],
   "source": [
    "import urllib.request\n",
    "url=\"https://raw.githubusercontent.com/svkarthik86/Advanced-python/main/NumpyLec.ipynb\"\n",
    "urllib.request.urlretrieve(url,\"test1.ipynb\")"
   ]
  },
  {
   "cell_type": "code",
   "execution_count": null,
   "id": "61dd26e8-2fe8-42f3-9580-a9490e077526",
   "metadata": {},
   "outputs": [],
   "source": []
  }
 ],
 "metadata": {
  "kernelspec": {
   "display_name": "Python 3 (ipykernel)",
   "language": "python",
   "name": "python3"
  },
  "language_info": {
   "codemirror_mode": {
    "name": "ipython",
    "version": 3
   },
   "file_extension": ".py",
   "mimetype": "text/x-python",
   "name": "python",
   "nbconvert_exporter": "python",
   "pygments_lexer": "ipython3",
   "version": "3.9.7"
  }
 },
 "nbformat": 4,
 "nbformat_minor": 5
}
